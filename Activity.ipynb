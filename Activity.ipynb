{
 "cells": [
  {
   "cell_type": "code",
   "execution_count": 32,
   "metadata": {},
   "outputs": [
    {
     "name": "stdout",
     "output_type": "stream",
     "text": [
      "Size of array:  253\n",
      "Total words:  50\n",
      "No. of Words containing vowels :  49\n",
      "No. of Words having no vowels:  1\n"
     ]
    }
   ],
   "source": [
    "arr='A vowel is a particular kind of speech sound made by changing the shape of the upper vocal tract, or the area in the mouth above the tongue. In English it is important to know that there is a difference between a vowel sound and a letter in the alphabet'\n",
    "count=0\n",
    "words=0\n",
    "flag=False\n",
    "size=len(arr)\n",
    "\n",
    "for i in range(size):\n",
    "    #size=size+1\n",
    "    if arr[i] != \" \":\n",
    "        if arr[i]==\"A\" or arr[i]==\"a\" or arr[i]==\"E\" or arr[i]==\"e\" or arr[i]==\"I\" or arr[i]==\"i\" or arr[i]==\"O\" or arr[i]==\"o\" or arr[i]==\"U\" or arr[i]==\"u\":\n",
    "            flag=True\n",
    "            \n",
    "    if arr[i]==' ' or i==size-1:\n",
    "        words=words+1\n",
    "        if flag==True:\n",
    "            count=count+1\n",
    "            flag=False\n",
    "            \n",
    "print(\"Size of array: \",size)\n",
    "print(\"Total words: \",words)\n",
    "print(\"No. of Words containing vowels : \",count)\n",
    "\n",
    "words=words-count\n",
    "print(\"No. of Words having no vowels: \",words)\n"
   ]
  },
  {
   "cell_type": "code",
   "execution_count": null,
   "metadata": {},
   "outputs": [],
   "source": []
  },
  {
   "cell_type": "code",
   "execution_count": null,
   "metadata": {},
   "outputs": [],
   "source": []
  }
 ],
 "metadata": {
  "kernelspec": {
   "display_name": "Python 3",
   "language": "python",
   "name": "python3"
  },
  "language_info": {
   "codemirror_mode": {
    "name": "ipython",
    "version": 3
   },
   "file_extension": ".py",
   "mimetype": "text/x-python",
   "name": "python",
   "nbconvert_exporter": "python",
   "pygments_lexer": "ipython3",
   "version": "3.8.5"
  }
 },
 "nbformat": 4,
 "nbformat_minor": 4
}
