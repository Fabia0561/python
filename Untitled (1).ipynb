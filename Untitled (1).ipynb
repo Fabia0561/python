{
 "cells": [
  {
   "cell_type": "code",
   "execution_count": 1,
   "metadata": {},
   "outputs": [
    {
     "name": "stdout",
     "output_type": "stream",
     "text": [
      "Enter input: How to split a string by multiple separators in python We can use split () to split the string with one separator at a time in python. If you want to use multiple separator to split the string we can use re.split () instead of split ()\n",
      "() How If We a at by can in instead multiple of one python python. re.split separator separators split string the time to use want we with you "
     ]
    }
   ],
   "source": [
    "lst=input(\"Enter input: \")\n",
    "check=lst.split(' ')\n",
    "Data=[]\n",
    "\n",
    "for i in check:\n",
    "    if i not in Data:\n",
    "        Data.append(i)\n",
    "        \n",
    "Data.sort()\n",
    "#print(Data,end=' ')\n",
    "for x in range(len(Data)):\n",
    "    print (Data[x],end=' ')"
   ]
  },
  {
   "cell_type": "code",
   "execution_count": null,
   "metadata": {},
   "outputs": [],
   "source": []
  }
 ],
 "metadata": {
  "kernelspec": {
   "display_name": "Python 3",
   "language": "python",
   "name": "python3"
  },
  "language_info": {
   "codemirror_mode": {
    "name": "ipython",
    "version": 3
   },
   "file_extension": ".py",
   "mimetype": "text/x-python",
   "name": "python",
   "nbconvert_exporter": "python",
   "pygments_lexer": "ipython3",
   "version": "3.8.5"
  }
 },
 "nbformat": 4,
 "nbformat_minor": 4
}
